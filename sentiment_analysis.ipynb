{
  "nbformat": 4,
  "nbformat_minor": 0,
  "metadata": {
    "colab": {
      "name": "sentiment_analysis.ipynb",
      "provenance": []
    },
    "kernelspec": {
      "name": "python3",
      "display_name": "Python 3"
    },
    "language_info": {
      "name": "python"
    },
    "accelerator": "GPU"
  },
  "cells": [
    {
      "cell_type": "code",
      "metadata": {
        "id": "_nREakj1AWgM"
      },
      "source": [
        "import numpy as np \n",
        "import pandas as pd \n",
        "import tensorflow as tf "
      ],
      "execution_count": null,
      "outputs": []
    },
    {
      "cell_type": "code",
      "metadata": {
        "colab": {
          "base_uri": "https://localhost:8080/"
        },
        "id": "akUNNb3VAnOR",
        "outputId": "a0de01e8-2c3c-4230-fd14-4c0dd03dad1b"
      },
      "source": [
        "(x_train, y_train), (x_test, y_test)= tf.keras.datasets.imdb.load_data(\n",
        "    path='imdb.npz', num_words=None, skip_top=0, maxlen=None, seed=113,\n",
        "    start_char=1, oov_char=2, index_from=3)"
      ],
      "execution_count": null,
      "outputs": [
        {
          "output_type": "stream",
          "name": "stdout",
          "text": [
            "Downloading data from https://storage.googleapis.com/tensorflow/tf-keras-datasets/imdb.npz\n",
            "17465344/17464789 [==============================] - 0s 0us/step\n",
            "17473536/17464789 [==============================] - 0s 0us/step\n"
          ]
        }
      ]
    },
    {
      "cell_type": "code",
      "metadata": {
        "id": "ai64jW-kBGt_"
      },
      "source": [
        "X= np.concatenate((x_train,x_test),axis=0)\n",
        "y=np.concatenate((y_train,y_test),axis=0)"
      ],
      "execution_count": null,
      "outputs": []
    },
    {
      "cell_type": "code",
      "metadata": {
        "colab": {
          "base_uri": "https://localhost:8080/"
        },
        "id": "FCfLHGS2BIAA",
        "outputId": "85561760-69af-4779-989d-bc3886a6f424"
      },
      "source": [
        "np.unique(y)"
      ],
      "execution_count": null,
      "outputs": [
        {
          "output_type": "execute_result",
          "data": {
            "text/plain": [
              "array([0, 1])"
            ]
          },
          "metadata": {},
          "execution_count": 4
        }
      ]
    },
    {
      "cell_type": "code",
      "metadata": {
        "colab": {
          "base_uri": "https://localhost:8080/"
        },
        "id": "icMTVbTrBjqZ",
        "outputId": "fbed97f2-4ee0-4c90-b4f6-583049dd0a21"
      },
      "source": [
        "vocab_size=len(np.unique(np.hstack(X)))\n",
        "vocab_size"
      ],
      "execution_count": null,
      "outputs": [
        {
          "output_type": "execute_result",
          "data": {
            "text/plain": [
              "88585"
            ]
          },
          "metadata": {},
          "execution_count": 5
        }
      ]
    },
    {
      "cell_type": "code",
      "metadata": {
        "id": "FWsAGtSqDnhX"
      },
      "source": [
        "review_length= [len(x) for x in X]"
      ],
      "execution_count": null,
      "outputs": []
    },
    {
      "cell_type": "code",
      "metadata": {
        "id": "fbH5VmiLCd_N"
      },
      "source": [
        "import matplotlib.pyplot as plt\n"
      ],
      "execution_count": null,
      "outputs": []
    },
    {
      "cell_type": "code",
      "metadata": {
        "colab": {
          "base_uri": "https://localhost:8080/",
          "height": 428
        },
        "id": "nvNjKKNQDbWw",
        "outputId": "b7b6ff6b-ad45-43ab-83e8-9992a34d70fd"
      },
      "source": [
        "fig = plt.figure(figsize =(10, 7))\n",
        " \n",
        "# Creating plot\n",
        "plt.boxplot(review_length)\n",
        " \n",
        "# show plot\n",
        "plt.show()"
      ],
      "execution_count": null,
      "outputs": [
        {
          "output_type": "display_data",
          "data": {
            "image/png": "[encoded data removed]",
            "text/plain": [
              "<Figure size 720x504 with 1 Axes>"
            ]
          },
          "metadata": {
            "needs_background": "light"
          }
        }
      ]
    },
    {
      "cell_type": "code",
      "metadata": {
        "id": "ZHq1YgbKECoq"
      },
      "source": [
        "from tensorflow.keras.preprocessing import sequence"
      ],
      "execution_count": null,
      "outputs": []
    },
    {
      "cell_type": "code",
      "metadata": {
        "id": "CW4mRtXKE3R-"
      },
      "source": [
        "x_train=sequence.pad_sequences(x_train,maxlen=500)\n",
        "x_test=sequence.pad_sequences(x_test,maxlen=500)"
      ],
      "execution_count": null,
      "outputs": []
    },
    {
      "cell_type": "code",
      "metadata": {
        "id": "mK2DUTwpFJgb"
      },
      "source": [
        "from keras.models import Sequential\n",
        "from keras.layers.embeddings import Embedding\n",
        "from keras.layers import Dense,Flatten"
      ],
      "execution_count": null,
      "outputs": []
    },
    {
      "cell_type": "code",
      "metadata": {
        "id": "Zk8vx3xYFkHO"
      },
      "source": [
        "model = Sequential([\n",
        "                    Embedding(1000, 32, input_length=500),\n",
        "                    Flatten(),\n",
        "                    Dense(250, activation='relu'),\n",
        "                    Dense(1, activation='sigmoid')\n",
        "                    ])\n"
      ],
      "execution_count": null,
      "outputs": []
    },
    {
      "cell_type": "code",
      "metadata": {
        "colab": {
          "base_uri": "https://localhost:8080/"
        },
        "id": "5zP2HfinGW0t",
        "outputId": "aea22382-3e51-4d0c-93ea-6992cc14daca"
      },
      "source": [
        "model.compile(loss='binary_crossentropy', optimizer='adam', metrics=['accuracy'])\n",
        "model.summary()"
      ],
      "execution_count": null,
      "outputs": [
        {
          "output_type": "stream",
          "name": "stdout",
          "text": [
            "Model: \"sequential\"\n",
            "_________________________________________________________________\n",
            "Layer (type)                 Output Shape              Param #   \n",
            "=================================================================\n",
            "embedding (Embedding)        (None, 500, 32)           32000     \n",
            "_________________________________________________________________\n",
            "flatten (Flatten)            (None, 16000)             0         \n",
            "_________________________________________________________________\n",
            "dense (Dense)                (None, 250)               4000250   \n",
            "_________________________________________________________________\n",
            "dense_1 (Dense)              (None, 1)                 251       \n",
            "=================================================================\n",
            "Total params: 4,032,501\n",
            "Trainable params: 4,032,501\n",
            "Non-trainable params: 0\n",
            "_________________________________________________________________\n"
          ]
        }
      ]
    },
    {
      "cell_type": "code",
      "metadata": {
        "colab": {
          "base_uri": "https://localhost:8080/"
        },
        "id": "iBZuDOSwG2OV",
        "outputId": "a1fd9e4b-cec9-4595-f5a2-60cbb9092850"
      },
      "source": [
        "history = model.fit(x_train, y_train, validation_data=(x_test, y_test), epochs=10, batch_size=128, verbose=2)"
      ],
      "execution_count": null,
      "outputs": [
        {
          "output_type": "stream",
          "name": "stdout",
          "text": [
            "Epoch 1/10\n",
            "196/196 - 5s - loss: 0.5052 - accuracy: 0.7297 - val_loss: 0.3791 - val_accuracy: 0.8267\n",
            "Epoch 2/10\n",
            "196/196 - 2s - loss: 0.2499 - accuracy: 0.8986 - val_loss: 0.3544 - val_accuracy: 0.8490\n",
            "Epoch 3/10\n",
            "196/196 - 2s - loss: 0.1380 - accuracy: 0.9493 - val_loss: 0.4334 - val_accuracy: 0.8410\n",
            "Epoch 4/10\n",
            "196/196 - 2s - loss: 0.0584 - accuracy: 0.9834 - val_loss: 0.5439 - val_accuracy: 0.8344\n",
            "Epoch 5/10\n",
            "196/196 - 2s - loss: 0.0201 - accuracy: 0.9961 - val_loss: 0.7089 - val_accuracy: 0.8298\n",
            "Epoch 6/10\n",
            "196/196 - 2s - loss: 0.0064 - accuracy: 0.9994 - val_loss: 0.8122 - val_accuracy: 0.8298\n",
            "Epoch 7/10\n",
            "196/196 - 2s - loss: 0.0022 - accuracy: 0.9999 - val_loss: 0.8986 - val_accuracy: 0.8292\n",
            "Epoch 8/10\n",
            "196/196 - 2s - loss: 9.6531e-04 - accuracy: 1.0000 - val_loss: 0.9509 - val_accuracy: 0.8286\n",
            "Epoch 9/10\n",
            "196/196 - 2s - loss: 6.0978e-04 - accuracy: 1.0000 - val_loss: 0.9892 - val_accuracy: 0.8290\n",
            "Epoch 10/10\n",
            "196/196 - 2s - loss: 4.3999e-04 - accuracy: 1.0000 - val_loss: 1.0218 - val_accuracy: 0.8287\n"
          ]
        }
      ]
    },
    {
      "cell_type": "code",
      "metadata": {
        "colab": {
          "base_uri": "https://localhost:8080/",
          "height": 313
        },
        "id": "5aYbKyWGMEn-",
        "outputId": "6704d2c8-4098-49f7-e704-0ab35e7c808b"
      },
      "source": [
        "print(history.history.keys())\n",
        "# summarize history for accuracy\n",
        "plt.plot(history.history['accuracy'])\n",
        "plt.plot(history.history['val_accuracy'])\n",
        "plt.title('model accuracy')\n",
        "plt.ylabel('accuracy')\n",
        "plt.xlabel('epoch')\n",
        "plt.legend(['train', 'test'], loc='upper left')\n",
        "plt.show()"
      ],
      "execution_count": null,
      "outputs": [
        {
          "output_type": "stream",
          "name": "stdout",
          "text": [
            "dict_keys(['loss', 'accuracy', 'val_loss', 'val_accuracy'])\n"
          ]
        },
        {
          "output_type": "display_data",
          "data": {
            "image/png": "[encoded data removed]",
            "text/plain": [
              "<Figure size 432x288 with 1 Axes>"
            ]
          },
          "metadata": {
            "needs_background": "light"
          }
        }
      ]
    },
    {
      "cell_type": "code",
      "metadata": {
        "colab": {
          "base_uri": "https://localhost:8080/"
        },
        "id": "6ZZWLZcEMbqz",
        "outputId": "fe94d396-ff04-4452-afa9-4b82f98b4fa3"
      },
      "source": [
        "scores = model.evaluate(x_test, y_test, verbose=0)\n",
        "print(scores[1])"
      ],
      "execution_count": null,
      "outputs": [
        {
          "output_type": "stream",
          "name": "stdout",
          "text": [
            "0.8286799788475037\n"
          ]
        }
      ]
    },
    {
      "cell_type": "markdown",
      "metadata": {
        "id": "8n0n60k2UYzn"
      },
      "source": [
        "**The second model with LSTM**"
      ]
    },
    {
      "cell_type": "code",
      "metadata": {
        "id": "ZANWtJ72UrBg"
      },
      "source": [
        "from keras.layers import LSTM"
      ],
      "execution_count": null,
      "outputs": []
    },
    {
      "cell_type": "code",
      "metadata": {
        "id": "kWqnXwmbUgnK"
      },
      "source": [
        "model2 = Sequential([\n",
        "                    Embedding(1000, 32, input_length=500),\n",
        "                    LSTM(128),\n",
        "                    Flatten(),\n",
        "                    Dense(250, activation='relu'),\n",
        "                    Dense(1, activation='sigmoid')\n",
        "                    ])"
      ],
      "execution_count": null,
      "outputs": []
    },
    {
      "cell_type": "code",
      "metadata": {
        "colab": {
          "base_uri": "https://localhost:8080/"
        },
        "id": "k_lx5plHVVah",
        "outputId": "7dee0397-d4fb-486f-8a77-0f174ff6c53a"
      },
      "source": [
        "model2.compile(loss='binary_crossentropy', optimizer='adam', metrics=['accuracy'])\n",
        "model2.summary()"
      ],
      "execution_count": null,
      "outputs": [
        {
          "output_type": "stream",
          "name": "stdout",
          "text": [
            "Model: \"sequential_1\"\n",
            "_________________________________________________________________\n",
            "Layer (type)                 Output Shape              Param #   \n",
            "=================================================================\n",
            "embedding_1 (Embedding)      (None, 500, 32)           32000     \n",
            "_________________________________________________________________\n",
            "lstm_1 (LSTM)                (None, 128)               82432     \n",
            "_________________________________________________________________\n",
            "flatten_1 (Flatten)          (None, 128)               0         \n",
            "_________________________________________________________________\n",
            "dense_2 (Dense)              (None, 250)               32250     \n",
            "_________________________________________________________________\n",
            "dense_3 (Dense)              (None, 1)                 251       \n",
            "=================================================================\n",
            "Total params: 146,933\n",
            "Trainable params: 146,933\n",
            "Non-trainable params: 0\n",
            "_________________________________________________________________\n"
          ]
        }
      ]
    },
    {
      "cell_type": "code",
      "metadata": {
        "colab": {
          "base_uri": "https://localhost:8080/"
        },
        "id": "NdEoK1OaVcHX",
        "outputId": "41848cc8-c015-41c6-ec1c-62438b747a94"
      },
      "source": [
        "history2 = model2.fit(x_train, y_train, validation_data=(x_test, y_test), epochs=10, batch_size=128, verbose=2)"
      ],
      "execution_count": null,
      "outputs": [
        {
          "output_type": "stream",
          "name": "stdout",
          "text": [
            "Epoch 1/10\n",
            "196/196 - 28s - loss: 0.5903 - accuracy: 0.6787 - val_loss: 0.4102 - val_accuracy: 0.8165\n",
            "Epoch 2/10\n",
            "196/196 - 25s - loss: 0.3630 - accuracy: 0.8426 - val_loss: 0.3585 - val_accuracy: 0.8458\n",
            "Epoch 3/10\n",
            "196/196 - 25s - loss: 0.3330 - accuracy: 0.8604 - val_loss: 0.3348 - val_accuracy: 0.8613\n",
            "Epoch 4/10\n",
            "196/196 - 25s - loss: 0.3084 - accuracy: 0.8721 - val_loss: 0.3210 - val_accuracy: 0.8642\n",
            "Epoch 5/10\n",
            "196/196 - 25s - loss: 0.2991 - accuracy: 0.8762 - val_loss: 0.3496 - val_accuracy: 0.8500\n",
            "Epoch 6/10\n",
            "196/196 - 25s - loss: 0.2980 - accuracy: 0.8746 - val_loss: 0.3260 - val_accuracy: 0.8675\n",
            "Epoch 7/10\n",
            "196/196 - 25s - loss: 0.2812 - accuracy: 0.8860 - val_loss: 0.3315 - val_accuracy: 0.8649\n",
            "Epoch 8/10\n",
            "196/196 - 25s - loss: 0.2724 - accuracy: 0.8879 - val_loss: 0.3249 - val_accuracy: 0.8676\n",
            "Epoch 9/10\n",
            "196/196 - 25s - loss: 0.2669 - accuracy: 0.8919 - val_loss: 0.3310 - val_accuracy: 0.8594\n",
            "Epoch 10/10\n",
            "196/196 - 25s - loss: 0.2629 - accuracy: 0.8927 - val_loss: 0.3386 - val_accuracy: 0.8578\n"
          ]
        }
      ]
    },
    {
      "cell_type": "code",
      "metadata": {
        "colab": {
          "base_uri": "https://localhost:8080/",
          "height": 313
        },
        "id": "1U3j6hYHXBt8",
        "outputId": "0d6d34f9-620c-4012-92fb-e51ff3a1baf4"
      },
      "source": [
        "print(history2.history.keys())\n",
        "# summarize history for accuracy\n",
        "plt.plot(history2.history['accuracy'])\n",
        "plt.plot(history2.history['val_accuracy'])\n",
        "plt.title('model accuracy')\n",
        "plt.ylabel('accuracy')\n",
        "plt.xlabel('epoch')\n",
        "plt.legend(['train', 'test'], loc='upper left')\n",
        "plt.show()"
      ],
      "execution_count": null,
      "outputs": [
        {
          "output_type": "stream",
          "name": "stdout",
          "text": [
            "dict_keys(['loss', 'accuracy', 'val_loss', 'val_accuracy'])\n"
          ]
        },
        {
          "output_type": "display_data",
          "data": {
            "image/png": "[encoded data removed]",
            "text/plain": [
              "<Figure size 432x288 with 1 Axes>"
            ]
          },
          "metadata": {
            "needs_background": "light"
          }
        }
      ]
    },
    {
      "cell_type": "code",
      "metadata": {
        "colab": {
          "base_uri": "https://localhost:8080/"
        },
        "id": "FAGWzcxKXNAj",
        "outputId": "bc76827d-2ba1-4ae0-a309-260d1f7734b0"
      },
      "source": [
        "scores = model2.evaluate(x_test, y_test, verbose=0)\n",
        "print(scores[1])"
      ],
      "execution_count": null,
      "outputs": [
        {
          "output_type": "stream",
          "name": "stdout",
          "text": [
            "0.8577600121498108\n"
          ]
        }
      ]
    }
  ]
}